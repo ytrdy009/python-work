{
 "cells": [
  {
   "cell_type": "code",
   "execution_count": 1,
   "metadata": {},
   "outputs": [],
   "source": [
    "%matplotlib inline"
   ]
  },
  {
   "cell_type": "code",
   "execution_count": 3,
   "metadata": {},
   "outputs": [
    {
     "name": "stdout",
     "output_type": "stream",
     "text": [
      "請選擇攝氏(c)或華氏(f)溫標:華氏\n",
      "請輸入華氏溫度:20\n",
      "華氏20.00度等於攝氏-6.67度\n"
     ]
    }
   ],
   "source": [
    "choose=input(\"請選擇攝氏或華氏溫標:\")\n",
    "if(\"攝氏\" in choose):\n",
    "    T=float(input(\"請輸入攝氏溫度:\"))\n",
    "    T2=float(T*9/5+32)\n",
    "    print(\"攝氏%.2f度等於華氏%.2f度\"%(T,T2))\n",
    "elif(\"華氏\" in choose):\n",
    "    T3=float(input(\"請輸入華氏溫度:\"))\n",
    "    T4=float((T-32)*5/9)\n",
    "    print(\"華氏%.2f度等於攝氏%.2f度\"%(T3,T4))\n",
    "else:\n",
    "    print(\"輸入錯誤\")"
   ]
  },
  {
   "cell_type": "code",
   "execution_count": null,
   "metadata": {},
   "outputs": [],
   "source": []
  }
 ],
 "metadata": {
  "kernelspec": {
   "display_name": "Python 3",
   "language": "python",
   "name": "python3"
  },
  "language_info": {
   "codemirror_mode": {
    "name": "ipython",
    "version": 3
   },
   "file_extension": ".py",
   "mimetype": "text/x-python",
   "name": "python",
   "nbconvert_exporter": "python",
   "pygments_lexer": "ipython3",
   "version": "3.7.3"
  }
 },
 "nbformat": 4,
 "nbformat_minor": 2
}
