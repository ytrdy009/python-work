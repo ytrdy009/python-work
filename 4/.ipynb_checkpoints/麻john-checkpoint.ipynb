{
 "cells": [
  {
   "cell_type": "code",
   "execution_count": 3,
   "metadata": {},
   "outputs": [],
   "source": [
    "%matplotlib inline\n",
    "import numpy as np\n",
    "import pandas as pd"
   ]
  },
  {
   "cell_type": "code",
   "execution_count": 6,
   "metadata": {},
   "outputs": [
    {
     "name": "stdout",
     "output_type": "stream",
     "text": [
      "骰子點數:1\n",
      "+2\n",
      "+3\n",
      "拿上家前面的牌\n",
      "拿完剩 10 張\n"
     ]
    }
   ],
   "source": [
    "y=\" \"\n",
    "z=\" \"\n",
    "while(z!=\"\"):\n",
    "    y=int(int(input(\"骰子點數:\"))+int(input(\"+\"))+int(input('+')))\n",
    "    z=int(y%4)\n",
    "    if (z==1):\n",
    "        print(\"拿自己前面的牌\")\n",
    "        break\n",
    "    elif (z==2):\n",
    "        print(\"拿上家前面的牌\")\n",
    "        break\n",
    "    elif (z==3):\n",
    "        print(\"拿對家前面的牌\")\n",
    "        break\n",
    "    elif (z==4):\n",
    "        print(\"拿下家前面的牌\")\n",
    "        break\n",
    "print(\"拿完剩\",16-y,\"張\")"
   ]
  },
  {
   "cell_type": "code",
   "execution_count": null,
   "metadata": {},
   "outputs": [],
   "source": []
  }
 ],
 "metadata": {
  "kernelspec": {
   "display_name": "Python 3",
   "language": "python",
   "name": "python3"
  },
  "language_info": {
   "codemirror_mode": {
    "name": "ipython",
    "version": 3
   },
   "file_extension": ".py",
   "mimetype": "text/x-python",
   "name": "python",
   "nbconvert_exporter": "python",
   "pygments_lexer": "ipython3",
   "version": "3.7.3"
  }
 },
 "nbformat": 4,
 "nbformat_minor": 2
}
