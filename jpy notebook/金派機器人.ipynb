{
 "cells": [
  {
   "cell_type": "code",
   "execution_count": null,
   "metadata": {},
   "outputs": [],
   "source": [
    "%matplotlib inline\n",
    "import numpy as np\n",
    "import matplotlib.pyplot as plt"
   ]
  },
  {
   "cell_type": "code",
   "execution_count": null,
   "metadata": {},
   "outputs": [],
   "source": [
    "x1=np.arange(0,1.01,0.01)\n",
    "y1=-2*(x1-1)*x1\n",
    "\n",
    "x2=np.arange(1,2.01,0.01)\n",
    "y2=-2*(x2-2)*(x2-1)\n",
    "\n",
    "x3=np.arange(2,3.01,0.01)\n",
    "y3=-10*(x3-2)*(x3-3)\n",
    "\n",
    "x4=np.arange(3,4.01,0.01)\n",
    "y4=-2*(x4-3)*(x4-4)\n",
    "\n",
    "x5=np.arange(4,5.01,0.01)\n",
    "y5=-2*(x5-4)*(x5-5)\n",
    "\n",
    "x=np.arange(-np.pi,0,0.01)\n",
    "x6=np.cos(x)*2.5+2.5\n",
    "y6=np.sin(x)*2\n",
    "\n",
    "\n",
    "a=\"123\"\n",
    "print(\"我很派  ^_^凸\")\n",
    "while a!=\" \":\n",
    "    a=input(\" \")\n",
    "    if \"帥\" in a:\n",
    "        print(\"謝拉掰掰~\")\n",
    "        break\n",
    "    elif \"拍拍\" in a:\n",
    "        print(\"拍屁拍,滾!\")\n",
    "    else:\n",
    "        "
   ]
  },
  {
   "cell_type": "code",
   "execution_count": null,
   "metadata": {},
   "outputs": [],
   "source": []
  },
  {
   "cell_type": "code",
   "execution_count": null,
   "metadata": {},
   "outputs": [],
   "source": []
  }
 ],
 "metadata": {
  "kernelspec": {
   "display_name": "Python 3",
   "language": "python",
   "name": "python3"
  },
  "language_info": {
   "codemirror_mode": {
    "name": "ipython",
    "version": 3
   },
   "file_extension": ".py",
   "mimetype": "text/x-python",
   "name": "python",
   "nbconvert_exporter": "python",
   "pygments_lexer": "ipython3",
   "version": "3.7.3"
  }
 },
 "nbformat": 4,
 "nbformat_minor": 2
}
