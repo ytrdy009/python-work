{
 "cells": [
  {
   "cell_type": "code",
   "execution_count": 1,
   "metadata": {},
   "outputs": [],
   "source": [
    "%matplotlib inline\n",
    "import numpy as np\n",
    "import matplotlib.pyplot as plt"
   ]
  },
  {
   "cell_type": "code",
   "execution_count": 1,
   "metadata": {},
   "outputs": [
    {
     "name": "stdout",
     "output_type": "stream",
     "text": [
      "灌籃高手去打球誰最早到?\n",
      ">>不知道\n",
      "仙道\n",
      ">>為什麼\n",
      "因為仙道(先到)\n",
      ">>幹 講出來就不好笑了\n",
      "對不起啦\n"
     ]
    }
   ],
   "source": [
    "print(\"灌籃高手去打球誰最早到?\")\n",
    "msg=\"  \"\n",
    "while(msg!=\"不好笑\"):\n",
    "    msg=input(\">>\")\n",
    "    if(\"不好笑\" in msg):\n",
    "        print(\"對不起啦\")\n",
    "        break\n",
    "    elif(\"不知道\"in msg):\n",
    "        print(\"仙道\")\n",
    "    elif(\"為什麼\" in msg):\n",
    "        print(\"因為仙道(先到)\")"
   ]
  },
  {
   "cell_type": "code",
   "execution_count": null,
   "metadata": {},
   "outputs": [],
   "source": []
  }
 ],
 "metadata": {
  "kernelspec": {
   "display_name": "Python 3",
   "language": "python",
   "name": "python3"
  },
  "language_info": {
   "codemirror_mode": {
    "name": "ipython",
    "version": 3
   },
   "file_extension": ".py",
   "mimetype": "text/x-python",
   "name": "python",
   "nbconvert_exporter": "python",
   "pygments_lexer": "ipython3",
   "version": "3.7.3"
  }
 },
 "nbformat": 4,
 "nbformat_minor": 2
}
