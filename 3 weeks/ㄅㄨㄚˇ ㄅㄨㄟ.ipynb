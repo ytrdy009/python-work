{
 "cells": [
  {
   "cell_type": "code",
   "execution_count": 2,
   "metadata": {},
   "outputs": [],
   "source": [
    "%matplotlib inline\n",
    "import random"
   ]
  },
  {
   "cell_type": "code",
   "execution_count": 4,
   "metadata": {},
   "outputs": [
    {
     "name": "stdout",
     "output_type": "stream",
     "text": [
      ">>嗨\n",
      "你想問甚麼\n",
      ">>希望沒bug\n",
      "笑筊\n"
     ]
    }
   ],
   "source": [
    "x=random.choice([\"聖筊\",\"聖筊\",\"陰筊\",\"笑筊\"])\n",
    "hope=\" \"\n",
    "while(hope!=\"希望\"):\n",
    "    hope=input(\">>\")\n",
    "    if(\"希望\"in hope):\n",
    "        print(x)\n",
    "        break\n",
    "    else:\n",
    "        print(\"你想問甚麼\")"
   ]
  },
  {
   "cell_type": "code",
   "execution_count": null,
   "metadata": {},
   "outputs": [],
   "source": []
  }
 ],
 "metadata": {
  "kernelspec": {
   "display_name": "Python 3",
   "language": "python",
   "name": "python3"
  },
  "language_info": {
   "codemirror_mode": {
    "name": "ipython",
    "version": 3
   },
   "file_extension": ".py",
   "mimetype": "text/x-python",
   "name": "python",
   "nbconvert_exporter": "python",
   "pygments_lexer": "ipython3",
   "version": "3.7.3"
  }
 },
 "nbformat": 4,
 "nbformat_minor": 2
}
