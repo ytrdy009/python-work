{
 "cells": [
  {
   "cell_type": "code",
   "execution_count": 1,
   "metadata": {},
   "outputs": [],
   "source": [
    "%matplotlib inline"
   ]
  },
  {
   "cell_type": "code",
   "execution_count": 2,
   "metadata": {},
   "outputs": [
    {
     "name": "stdout",
     "output_type": "stream",
     "text": [
      "輸入年份:2000\n",
      "閏年\n"
     ]
    }
   ],
   "source": [
    "year=int(input(\"輸入年份:\"))\n",
    "if(year%100!=0):\n",
    "    if(year%4==0):\n",
    "        print(\"閏年\")\n",
    "    else:\n",
    "        print(\"平年\")\n",
    "else:\n",
    "    if(year%400==0):\n",
    "        print(\"閏年\")\n",
    "    else:\n",
    "        print(\"平年\")"
   ]
  }
 ],
 "metadata": {
  "kernelspec": {
   "display_name": "Python 3",
   "language": "python",
   "name": "python3"
  },
  "language_info": {
   "codemirror_mode": {
    "name": "ipython",
    "version": 3
   },
   "file_extension": ".py",
   "mimetype": "text/x-python",
   "name": "python",
   "nbconvert_exporter": "python",
   "pygments_lexer": "ipython3",
   "version": "3.7.3"
  }
 },
 "nbformat": 4,
 "nbformat_minor": 2
}
